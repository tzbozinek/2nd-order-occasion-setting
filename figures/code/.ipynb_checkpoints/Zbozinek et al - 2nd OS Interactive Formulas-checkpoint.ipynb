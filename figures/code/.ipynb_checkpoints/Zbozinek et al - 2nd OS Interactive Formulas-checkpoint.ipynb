{
 "cells": [
  {
   "cell_type": "code",
   "execution_count": null,
   "metadata": {},
   "outputs": [],
   "source": [
    "import pandas as pd\n",
    "import numpy as np\n",
    "import scipy.stats\n",
    "import skimage.io\n",
    "\n",
    "import bootcamp_utils\n",
    "\n",
    "import colorcet\n",
    "\n",
    "import bokeh.plotting\n",
    "import bokeh.io\n",
    "\n",
    "import holoviews as hv\n",
    "\n",
    "import panel as pn\n",
    "pn.extension()\n",
    "\n",
    "import bokeh_catplot\n",
    "import math\n",
    "\n",
    "hv.extension('bokeh')\n",
    "\n",
    "bokeh.io.output_notebook()\n",
    "\n",
    "import os, sys, subprocess"
   ]
  },
  {
   "cell_type": "code",
   "execution_count": null,
   "metadata": {},
   "outputs": [],
   "source": [
    "opts = dict(show_grid=True, frame_height=400, frame_width=400, color=\"#1f77b3\")\n",
    "\n",
    "def responding_function(V=0, V̅=0, P=0, N=0, P2=0, N2=0):\n",
    "    x = 1\n",
    "    γ1 = V * V̅\n",
    "    γ2 = P * N\n",
    "    R = (V - V̅) + (P * V̅ * γ1) - (N * V * γ1) + (P2 * N * V * γ1 * γ2) - (N2 * P * V̅ * γ1 * γ2)\n",
    "    return hv.Bars(data=(x,R), kdims=[' '], vdims=['R (i.e., Responding; -1 to 1)']).opts(xaxis=None, xticks=None, title='Zbozinek, et al. 2nd-Order Occasion Setting Formulas', **opts)\n",
    "\n",
    "#Below, there are three versions of the values that will be used in the app. Use only one of them. They differ in how long they take to run (<1 minute, 15-30 minutes, 9 hours).\n",
    "#To uncomment, highlight lines and press ctrl /. Or, if on a Mac, press Command /.\n",
    "\n",
    "#Uncomment lines below to make an abbreviated version that takes < 1 minute\n",
    "# Vvalues = [0,1]\n",
    "# V̅values = [0,1]\n",
    "# Pvalues = [0,1]\n",
    "# Nvalues = [0,1]\n",
    "# P2values = [0,1]\n",
    "# N2values = [0,1]\n",
    "\n",
    "#Uncomment lines below to make an abbreviated version that takes 15-30 minutes\n",
    "# Vvalues = [0,.5,1]\n",
    "# V̅values = [0,.5,1]\n",
    "# Pvalues = [0,.5,1]\n",
    "# Nvalues = [0,.5,1]\n",
    "# P2values = [0,.5,1]\n",
    "# N2values = [0,.5,1]\n",
    "\n",
    "#Uncomment lines below make the full version that is used in the manuscript. Takes us 9 hours to make.\n",
    "Vvalues = [0,.5,.75,1]\n",
    "V̅values = [0,.5,.75,1]\n",
    "Pvalues = [0,.5,.75,1]\n",
    "Nvalues = [0,.5,.75,1]\n",
    "P2values = [0,.5,.75,1]\n",
    "N2values = [0,.5,.75,1]\n",
    "\n",
    "parameter_dict = {(V,V̅,P,N, P2, N2):responding_function(V,V̅,P,N, P2, N2) for V in Vvalues for V̅ in V̅values for P in Pvalues for N in Nvalues for P2 in P2values for N2 in N2values}"
   ]
  },
  {
   "cell_type": "code",
   "execution_count": null,
   "metadata": {},
   "outputs": [],
   "source": [
    "hmap = hv.HoloMap(parameter_dict, kdims=['Direct Excitation (V)', 'Direct Inhibition (V̅)', '1st-Order Positive Occasion Setting (P)', '1st-Order Negative Occasion Setting (N)', \n",
    "                                        '2nd-Order Positive Occasion Setting (P2)', '2nd-Order Negative Occasion Setting (N2)'])\n",
    "hmap\n",
    "\n",
    "hv.output(max_frames=100000)\n",
    "\n",
    "hv.save(hmap, os.path.join('../output/',r'Zbozinek et al 2nd-Order Occasion Setting Formulas.html'))"
   ]
  },
  {
   "cell_type": "code",
   "execution_count": null,
   "metadata": {},
   "outputs": [],
   "source": [
    "%load_ext watermark\n",
    "%watermark -v -p pytest,jupyterlab,bokeh,iqplot,bebi103,numpy,pandas,holoviews,panel"
   ]
  }
 ],
 "metadata": {
  "kernelspec": {
   "display_name": "Python 3",
   "language": "python",
   "name": "python3"
  },
  "language_info": {
   "codemirror_mode": {
    "name": "ipython",
    "version": 3
   },
   "file_extension": ".py",
   "mimetype": "text/x-python",
   "name": "python",
   "nbconvert_exporter": "python",
   "pygments_lexer": "ipython3",
   "version": "3.8.5"
  }
 },
 "nbformat": 4,
 "nbformat_minor": 4
}
